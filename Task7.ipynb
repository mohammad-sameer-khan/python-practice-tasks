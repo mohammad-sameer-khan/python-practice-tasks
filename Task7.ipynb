{
 "cells": [
  {
   "cell_type": "code",
   "execution_count": 2,
   "id": "1ea9d74c",
   "metadata": {},
   "outputs": [
    {
     "name": "stdout",
     "output_type": "stream",
     "text": [
      "Input words: sameer,akbar,khan\n",
      "akbar, khan, sameer\n"
     ]
    }
   ],
   "source": [
    "sequence = input(\"Input words: \")\n",
    "\n",
    "sequence_list = sequence.split(\",\")\n",
    "sequence_list.sort()\n",
    "print((', ').join(sequence_list))"
   ]
  },
  {
   "cell_type": "code",
   "execution_count": null,
   "id": "83955a59",
   "metadata": {},
   "outputs": [],
   "source": []
  }
 ],
 "metadata": {
  "kernelspec": {
   "display_name": "Python 3",
   "language": "python",
   "name": "python3"
  },
  "language_info": {
   "codemirror_mode": {
    "name": "ipython",
    "version": 3
   },
   "file_extension": ".py",
   "mimetype": "text/x-python",
   "name": "python",
   "nbconvert_exporter": "python",
   "pygments_lexer": "ipython3",
   "version": "3.6.13"
  }
 },
 "nbformat": 4,
 "nbformat_minor": 5
}
