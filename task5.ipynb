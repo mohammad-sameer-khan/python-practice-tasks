{
 "cells": [
  {
   "cell_type": "code",
   "execution_count": 5,
   "id": "f7b8b1c3",
   "metadata": {},
   "outputs": [],
   "source": [
    "def capital(string):\n",
    "    return string.upper()\n",
    "    "
   ]
  },
  {
   "cell_type": "code",
   "execution_count": 7,
   "id": "1dc75cd5",
   "metadata": {},
   "outputs": [
    {
     "name": "stdout",
     "output_type": "stream",
     "text": [
      "PRACTICE MAKES PERFECT\n"
     ]
    }
   ],
   "source": [
    "print(capital(\"Practice makes perfect\"))"
   ]
  },
  {
   "cell_type": "code",
   "execution_count": null,
   "id": "221db40b",
   "metadata": {},
   "outputs": [],
   "source": []
  }
 ],
 "metadata": {
  "kernelspec": {
   "display_name": "Python 3",
   "language": "python",
   "name": "python3"
  },
  "language_info": {
   "codemirror_mode": {
    "name": "ipython",
    "version": 3
   },
   "file_extension": ".py",
   "mimetype": "text/x-python",
   "name": "python",
   "nbconvert_exporter": "python",
   "pygments_lexer": "ipython3",
   "version": "3.6.13"
  }
 },
 "nbformat": 4,
 "nbformat_minor": 5
}
