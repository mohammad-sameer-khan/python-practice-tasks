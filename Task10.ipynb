{
 "cells": [
  {
   "cell_type": "code",
   "execution_count": 20,
   "id": "811a8737",
   "metadata": {},
   "outputs": [],
   "source": [
    "class Person:\n",
    "    def __init__(self,gender):\n",
    "        self.gender=gender\n",
    "    def getGender(self):\n",
    "        print(\"Gender : \",self.gender)"
   ]
  },
  {
   "cell_type": "code",
   "execution_count": 29,
   "id": "e1fd335b",
   "metadata": {},
   "outputs": [],
   "source": [
    "class Male(Person):\n",
    "    def __init__(self):\n",
    "        self.gender='Male'\n",
    "    def getGender(self):\n",
    "        print(\"Gender : \",self.gender)"
   ]
  },
  {
   "cell_type": "code",
   "execution_count": 30,
   "id": "23f0695e",
   "metadata": {},
   "outputs": [],
   "source": [
    "class Female(Person):\n",
    "    def __init__(self):\n",
    "        self.gender='Female'\n",
    "    def getGender(self):\n",
    "        print(\"Gender : \",self.gender)"
   ]
  },
  {
   "cell_type": "code",
   "execution_count": 38,
   "id": "52e0edcb",
   "metadata": {},
   "outputs": [
    {
     "name": "stdout",
     "output_type": "stream",
     "text": [
      "Gender :  male\n"
     ]
    }
   ],
   "source": [
    "person=Person('male')\n",
    "person.getGender()"
   ]
  },
  {
   "cell_type": "code",
   "execution_count": 36,
   "id": "5521f6a5",
   "metadata": {},
   "outputs": [
    {
     "name": "stdout",
     "output_type": "stream",
     "text": [
      "Gender :  Male\n"
     ]
    }
   ],
   "source": [
    "person=Male()\n",
    "person.getGender()"
   ]
  },
  {
   "cell_type": "code",
   "execution_count": 37,
   "id": "24f5d28a",
   "metadata": {},
   "outputs": [
    {
     "name": "stdout",
     "output_type": "stream",
     "text": [
      "Gender :  Female\n"
     ]
    }
   ],
   "source": [
    "person=Female()\n",
    "person.getGender()"
   ]
  },
  {
   "cell_type": "code",
   "execution_count": null,
   "id": "aedfcecc",
   "metadata": {},
   "outputs": [],
   "source": []
  }
 ],
 "metadata": {
  "kernelspec": {
   "display_name": "Python 3",
   "language": "python",
   "name": "python3"
  },
  "language_info": {
   "codemirror_mode": {
    "name": "ipython",
    "version": 3
   },
   "file_extension": ".py",
   "mimetype": "text/x-python",
   "name": "python",
   "nbconvert_exporter": "python",
   "pygments_lexer": "ipython3",
   "version": "3.6.13"
  }
 },
 "nbformat": 4,
 "nbformat_minor": 5
}
