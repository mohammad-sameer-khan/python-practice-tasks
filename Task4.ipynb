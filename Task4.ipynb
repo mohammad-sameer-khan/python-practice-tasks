{
 "cells": [
  {
   "cell_type": "code",
   "execution_count": 1,
   "id": "1fc13ce1",
   "metadata": {},
   "outputs": [],
   "source": [
    "class test:\n",
    "    mystring=''\n",
    "    def __init__ (self):\n",
    "        self.mystring= \"Hello World\"\n",
    "    def GetString(self):\n",
    "        self.mystring=input('Enter the string :')\n",
    "    def PrintString(self):\n",
    "        print(self.mystring.upper())"
   ]
  },
  {
   "cell_type": "code",
   "execution_count": 3,
   "id": "9a88374a",
   "metadata": {},
   "outputs": [
    {
     "name": "stdout",
     "output_type": "stream",
     "text": [
      "Enter the string :my name is sameer Khan\n"
     ]
    }
   ],
   "source": [
    "object1=test()\n",
    "object1.GetString()"
   ]
  },
  {
   "cell_type": "code",
   "execution_count": 4,
   "id": "eae8cb9e",
   "metadata": {},
   "outputs": [
    {
     "name": "stdout",
     "output_type": "stream",
     "text": [
      "MY NAME IS SAMEER KHAN\n"
     ]
    }
   ],
   "source": [
    "object1.PrintString()"
   ]
  },
  {
   "cell_type": "code",
   "execution_count": null,
   "id": "41080001",
   "metadata": {},
   "outputs": [],
   "source": []
  }
 ],
 "metadata": {
  "kernelspec": {
   "display_name": "Python 3",
   "language": "python",
   "name": "python3"
  },
  "language_info": {
   "codemirror_mode": {
    "name": "ipython",
    "version": 3
   },
   "file_extension": ".py",
   "mimetype": "text/x-python",
   "name": "python",
   "nbconvert_exporter": "python",
   "pygments_lexer": "ipython3",
   "version": "3.6.13"
  }
 },
 "nbformat": 4,
 "nbformat_minor": 5
}
