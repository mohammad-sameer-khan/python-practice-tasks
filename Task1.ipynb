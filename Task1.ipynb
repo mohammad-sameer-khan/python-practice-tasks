{
 "cells": [
  {
   "cell_type": "code",
   "execution_count": 1,
   "id": "73b4b712",
   "metadata": {},
   "outputs": [],
   "source": [
    "def sum(number1,number2):\n",
    "    return number1+number2"
   ]
  },
  {
   "cell_type": "code",
   "execution_count": 2,
   "id": "eb042d37",
   "metadata": {},
   "outputs": [
    {
     "name": "stdout",
     "output_type": "stream",
     "text": [
      "4\n"
     ]
    }
   ],
   "source": [
    "print(sum(2,2))"
   ]
  },
  {
   "cell_type": "code",
   "execution_count": null,
   "id": "5f44239b",
   "metadata": {},
   "outputs": [],
   "source": []
  }
 ],
 "metadata": {
  "kernelspec": {
   "display_name": "Python 3",
   "language": "python",
   "name": "python3"
  },
  "language_info": {
   "codemirror_mode": {
    "name": "ipython",
    "version": 3
   },
   "file_extension": ".py",
   "mimetype": "text/x-python",
   "name": "python",
   "nbconvert_exporter": "python",
   "pygments_lexer": "ipython3",
   "version": "3.6.13"
  }
 },
 "nbformat": 4,
 "nbformat_minor": 5
}
