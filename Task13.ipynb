{
 "cells": [
  {
   "cell_type": "code",
   "execution_count": 14,
   "id": "65c6d52b",
   "metadata": {},
   "outputs": [],
   "source": [
    "import timeit\n",
    "def timer(function):\n",
    "  def new_function():\n",
    "    start_time = timeit.default_timer()\n",
    "    function()\n",
    "    elapsed = timeit.default_timer() - start_time\n",
    "    print('Function \"{name}\" took {time} seconds to complete.'.format(name=function.__name__, time=elapsed))\n",
    "  return new_function()"
   ]
  },
  {
   "cell_type": "code",
   "execution_count": 16,
   "id": "d4029315",
   "metadata": {},
   "outputs": [
    {
     "name": "stdout",
     "output_type": "stream",
     "text": [
      "Hello World\n",
      "Function \"function1\" took 2.6999999988674972e-05 seconds to complete.\n"
     ]
    }
   ],
   "source": [
    "@timer\n",
    "def function1():\n",
    "    print(\"Hello World\")"
   ]
  },
  {
   "cell_type": "code",
   "execution_count": 17,
   "id": "ef774408",
   "metadata": {},
   "outputs": [
    {
     "name": "stdout",
     "output_type": "stream",
     "text": [
      "Function \"function2\" took 4.999999987376214e-07 seconds to complete.\n"
     ]
    }
   ],
   "source": [
    "@timer\n",
    "def function2():\n",
    "    result=2+2\n",
    "    return result"
   ]
  },
  {
   "cell_type": "code",
   "execution_count": 18,
   "id": "9432bf78",
   "metadata": {},
   "outputs": [
    {
     "name": "stdout",
     "output_type": "stream",
     "text": [
      "0\n",
      "1\n",
      "2\n",
      "3\n",
      "4\n",
      "5\n",
      "6\n",
      "7\n",
      "8\n",
      "9\n",
      "Function \"function3\" took 0.00042360000000485343 seconds to complete.\n"
     ]
    }
   ],
   "source": [
    "@timer\n",
    "def function3():\n",
    "    for i in range(10):\n",
    "        print(i)"
   ]
  },
  {
   "cell_type": "code",
   "execution_count": 5,
   "id": "94142cb3",
   "metadata": {},
   "outputs": [],
   "source": []
  },
  {
   "cell_type": "code",
   "execution_count": null,
   "id": "c8262904",
   "metadata": {},
   "outputs": [],
   "source": [
    "     "
   ]
  }
 ],
 "metadata": {
  "kernelspec": {
   "display_name": "Python 3",
   "language": "python",
   "name": "python3"
  },
  "language_info": {
   "codemirror_mode": {
    "name": "ipython",
    "version": 3
   },
   "file_extension": ".py",
   "mimetype": "text/x-python",
   "name": "python",
   "nbconvert_exporter": "python",
   "pygments_lexer": "ipython3",
   "version": "3.6.13"
  }
 },
 "nbformat": 4,
 "nbformat_minor": 5
}
