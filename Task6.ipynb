{
 "cells": [
  {
   "cell_type": "code",
   "execution_count": 1,
   "id": "8c1a465a",
   "metadata": {},
   "outputs": [],
   "source": [
    "def task6(list):\n",
    "    alpha=0\n",
    "    digit=0\n",
    "    for i in list:\n",
    "        if i.isdigit():\n",
    "            digit+=1\n",
    "        elif i.isalpha():\n",
    "            alpha+=1\n",
    "    return [digit,alpha]\n",
    "\n",
    "output=task6('hello world! 123')"
   ]
  },
  {
   "cell_type": "code",
   "execution_count": 2,
   "id": "66dc3bcf",
   "metadata": {},
   "outputs": [
    {
     "name": "stdout",
     "output_type": "stream",
     "text": [
      "Digits 3\n",
      "Letters 10\n"
     ]
    }
   ],
   "source": [
    "print(\"Digits %d\" % output[0])\n",
    "print(\"Letters %d\" % output[1])"
   ]
  },
  {
   "cell_type": "code",
   "execution_count": null,
   "id": "c7dbd85f",
   "metadata": {},
   "outputs": [],
   "source": []
  }
 ],
 "metadata": {
  "kernelspec": {
   "display_name": "Python 3",
   "language": "python",
   "name": "python3"
  },
  "language_info": {
   "codemirror_mode": {
    "name": "ipython",
    "version": 3
   },
   "file_extension": ".py",
   "mimetype": "text/x-python",
   "name": "python",
   "nbconvert_exporter": "python",
   "pygments_lexer": "ipython3",
   "version": "3.6.13"
  }
 },
 "nbformat": 4,
 "nbformat_minor": 5
}
